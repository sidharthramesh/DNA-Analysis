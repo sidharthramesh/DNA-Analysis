{
 "cells": [
  {
   "cell_type": "code",
   "execution_count": 49,
   "metadata": {
    "collapsed": false
   },
   "outputs": [
    {
     "data": {
      "text/plain": [
       "'olleh'"
      ]
     },
     "execution_count": 49,
     "metadata": {},
     "output_type": "execute_result"
    }
   ],
   "source": [
    "from scipy.misc import comb\n",
    "import numpy as np"
   ]
  },
  {
   "cell_type": "code",
   "execution_count": 143,
   "metadata": {
    "collapsed": false
   },
   "outputs": [],
   "source": [
    "def count(dna):\n",
    "    A,T,G,C=0,0,0,0\n",
    "    for i in dna:\n",
    "        if i == 'A':\n",
    "            A+=1\n",
    "        if i == 'T':\n",
    "            T+=1\n",
    "        if i=='G':\n",
    "            G+=1\n",
    "        if i=='C':\n",
    "            C+=1\n",
    "    return np.array([A,C,G,T])\n",
    "    '''ans=[]\n",
    "    for i in a:\n",
    "        ans.append(str(i))\n",
    "    return ' '.join(ans)'''\n",
    "def dna_to_rna(dna):\n",
    "    rna=[]\n",
    "    for i in dna:\n",
    "        if i=='T':\n",
    "            rna.append('U')\n",
    "        else:\n",
    "            rna.append(i)\n",
    "    return ''.join(rna)\n",
    "def dna_compliment(dna):\n",
    "    comp=[]\n",
    "    for i in dna:\n",
    "        \n",
    "        if i == 'A':\n",
    "            comp.append('T')\n",
    "        if i == 'T':\n",
    "            comp.append('A')\n",
    "        if i=='G':\n",
    "            comp.append('C')\n",
    "        if i=='C':\n",
    "            comp.append('G')\n",
    "    return (''.join(comp))[::-1]  \n",
    "def fab(n,k):\n",
    "    if n==1 or n==2:\n",
    "        return 1\n",
    "    return fab(n-2,k)*k +fab(n-1,k)\n",
    "\n",
    "def to_aa(dna):\n",
    "    d={'GUC': 'V', 'ACC': 'T', 'GUA': 'V', 'GUG': 'V', 'GUU': 'V', 'AAC': 'N', 'CCU': 'P', 'UGG': 'W', 'AGC': 'S', 'AUC': 'I', 'CAU': 'H', 'AAU': 'N', 'AGU': 'S', 'ACU': 'T', 'CAC': 'H', 'ACG': 'T', 'CCG': 'P', 'CCA': 'P', 'ACA': 'T', 'CCC': 'P', 'UGU': 'C', 'GGU': 'G', 'UCU': 'S', 'GCG': 'A', 'UGC': 'C', 'CAG': 'Q', 'GAU': 'D', 'UAU': 'Y', 'CGG': 'R', 'UCG': 'S', 'AGG': 'R', 'GGG': 'G', 'UCC': 'S', 'UCA': 'S', 'UAA': 'stop', 'GGA': 'G', 'UAC': 'Y', 'GAC': 'D', 'GAA': 'E', 'AUA': 'I', 'GCA': 'A', 'CUU': 'L', 'GGC': 'G', 'AUG': 'M', 'UGA': 'stop', 'CUG': 'L', 'GAG': 'E', 'CUC': 'L', 'AGA': 'R', 'CUA': 'L', 'GCC': 'A', 'AAA': 'K', 'AAG': 'K', 'CAA': 'Q', 'UUU': 'F', 'CGU': 'R', 'CGA': 'R', 'GCU': 'A', 'UAG': 'stop', 'AUU': 'I', 'UUG': 'L', 'UUA': 'L', 'CGC': 'R', 'UUC': 'F'}\n",
    "    aa=[]\n",
    "    for base in range(0,len(dna)-3,3):\n",
    "        codon = dna[base:base+3]\n",
    "        #print d[codon]\n",
    "        if d[codon] == 'stop':\n",
    "            return aa\n",
    "        aa.append(d[codon])\n",
    "    return aa\n",
    "\n",
    "def positions(dna,kmer):\n",
    "    positions=[]\n",
    "    for i in range(0,len(dna)-len(kmer)):\n",
    "        if dna[i:i+len(kmer)] == kmer:\n",
    "            positions.append(str(i+1))\n",
    "            print 'hi'\n",
    "    return ' '.join(positions)\n",
    "\n",
    "def dominant_prob(k,m,n):\n",
    "    total = comb(k+m+n,2)\n",
    "    recessive = comb(n,2)+ (m*n/2) + comb(m,2)/4\n",
    "    return (total-recessive)/total\n",
    "\n",
    "def GC(ans):\n",
    "    for sample in ans:\n",
    "        if len(sample)>2:\n",
    "            line_counts=[]\n",
    "            for line in sample.split('\\n'):\n",
    "                if not line.isalpha() :\n",
    "                    print line\n",
    "                line_counts.append((count(line)))\n",
    "            sample_count = (np.array(line_counts)).sum(axis=0)\n",
    "            print 100*float(sample_count[2]+sample_count[1])/sample_count.sum()\n"
   ]
  }
 ],
 "metadata": {
  "kernelspec": {
   "display_name": "Python [Root]",
   "language": "python",
   "name": "Python [Root]"
  },
  "language_info": {
   "codemirror_mode": {
    "name": "ipython",
    "version": 2
   },
   "file_extension": ".py",
   "mimetype": "text/x-python",
   "name": "python",
   "nbconvert_exporter": "python",
   "pygments_lexer": "ipython2",
   "version": "2.7.12"
  }
 },
 "nbformat": 4,
 "nbformat_minor": 0
}
